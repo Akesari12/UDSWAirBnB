{
 "cells": [
  {
   "cell_type": "code",
   "execution_count": null,
   "metadata": {
    "collapsed": true
   },
   "outputs": [],
   "source": [
    "import requests\n",
    "!curl 'https://www.airbnb.com/s/San-Francisco--CA--United-States?source=mob&place_id=ChIJIQBpAG2ahYAR_6128GcTUEo&checkin=02%2F18%2F2017&checkout=02%2F19%2F2017&adults=2&children=0&infants=0&guests=2' \\\n",
    "-H 'accept-encoding: gzip, deflate, sdch, br' \\\n",
    "-H 'accept-language: en-US,en;q=0.8' \\\n",
    "-H 'upgrade-insecure-requests: 1' \\\n",
    "-H 'user-agent: Mozilla/5.0 (Macintosh; Intel Mac OS X 10_10_5) AppleWebKit/537.36 (KHTML, like Gecko) Chrome/55.0.2883.95 Safari/537.36' \\\n",
    "-H 'accept: text/html,application/xhtml+xml,application/xml;q=0.9,image/webp,*/*;q=0.8'\\\n",
    "-H 'referer: https://www.airbnb.com/' \\\n",
    "-H 'authority: www.airbnb.com' \\\n",
    "-H 'cookie: p1_hcopy=rediscover_travel; mdr_browser=desktop; _gat=1; sdid=; ftv=1485638850036; _csrf_token=V4%24.airbnb.com%249uNQ2_g42cI%24SB34m6s-gimpQYzd-ztaqZYVdAX_wrnVpDwd_VwMdGs%3D; _user_attributes=%7B%22curr%22%3A%22USD%22%2C%22guest_exchange%22%3A1.0%2C%22device_profiling_session_id%22%3A%221485638850--742d66e13a1d5b67e365cfd0%22%2C%22giftcard_profiling_session_id%22%3A%221485638850--3934373ce57ee54dce9ec63f%22%2C%22reservation_profiling_session_id%22%3A%221485638850--f1d0c0b1ff75b8a3535c3642%22%7D; flags=268435456; __ssid=e03993d3-e9a4-4aab-817d-24c958721356; _ga=GA1.2.1588102200.1485638849; bev=1485638848_kshjmaVWd%2FFoJICP; EPISODES=s=1485638982015&r=https%3A%2F%2Fwww.airbnb.com%2F' --compressed"
   ]
  },
  {
   "cell_type": "code",
   "execution_count": null,
   "metadata": {
    "collapsed": true
   },
   "outputs": [],
   "source": [
    "parameters = {'source': 'mob', 'place_id': 'ChIJIQBpAG2ahYAR_6128GcTUEo', 'checkin': '02%2F18%2F2017', \n",
    "              'checkout': '02%2F19%2F2017', 'adults': '2', 'children': '0', 'infants': '0', 'guests': '2'}\n",
    "url = 'https://www.airbnb.com/s/San-Francisco--CA--United-States'\n",
    "headers = {'accept-encoding': 'gzip, deflate, sdch, br', 'accept-language': 'en-US,en;q=0.8', \n",
    "           'upgrade-insecure-requests': '1', 'user-agent': 'Mozilla/5.0 (Macintosh; Intel Mac OS X 10_10_5) AppleWebKit/537.36 (KHTML, like Gecko) Chrome/55.0.2883.95 Safari/537.36',\n",
    "          'accept': 'text/html,application/xhtml+xml,application/xml;q=0.9,image/webp,*/*;q=0.8', 'referer':'https://www.airbnb.com/',\n",
    "          'authority': 'www.airbnb.com', 'cookie': 'p1_hcopy=rediscover_travel; mdr_browser=desktop; _gat=1; sdid=; ftv=1485638850036; _csrf_token=V4%24.airbnb.com%249uNQ2_g42cI%24SB34m6s-gimpQYzd-ztaqZYVdAX_wrnVpDwd_VwMdGs%3D; _user_attributes=%7B%22curr%22%3A%22USD%22%2C%22guest_exchange%22%3A1.0%2C%22device_profiling_session_id%22%3A%221485638850--742d66e13a1d5b67e365cfd0%22%2C%22giftcard_profiling_session_id%22%3A%221485638850--3934373ce57ee54dce9ec63f%22%2C%22reservation_profiling_session_id%22%3A%221485638850--f1d0c0b1ff75b8a3535c3642%22%7D; flags=268435456; __ssid=e03993d3-e9a4-4aab-817d-24c958721356; _ga=GA1.2.1588102200.1485638849; bev=1485638848_kshjmaVWd%2FFoJICP; EPISODES=s=1485638982015&r=https%3A%2F%2Fwww.airbnb.com%2F'}\n",
    "request = requests.get(url, params = parameters, headers = headers)\n",
    "\n",
    "repr(request)\n"
   ]
  },
  {
   "cell_type": "code",
   "execution_count": null,
   "metadata": {
    "collapsed": true
   },
   "outputs": [],
   "source": []
  }
 ],
 "metadata": {
  "kernelspec": {
   "display_name": "Python 3",
   "language": "python",
   "name": "python3"
  },
  "language_info": {
   "codemirror_mode": {
    "name": "ipython",
    "version": 3
   },
   "file_extension": ".py",
   "mimetype": "text/x-python",
   "name": "python",
   "nbconvert_exporter": "python",
   "pygments_lexer": "ipython3",
   "version": "3.5.2"
  }
 },
 "nbformat": 4,
 "nbformat_minor": 0
}
